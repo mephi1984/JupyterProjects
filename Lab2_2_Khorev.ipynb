{
 "cells": [
  {
   "cell_type": "code",
   "execution_count": 39,
   "id": "a33def03-2116-4494-a8ff-148964df6223",
   "metadata": {},
   "outputs": [
    {
     "name": "stdout",
     "output_type": "stream",
     "text": [
      "       Country  Year Total Population Urban Population Rural Population  \\\n",
      "0  Afghanistan  2017                -                -                -   \n",
      "1  Afghanistan  2018       36,686,784        9,353,296       27,333,488   \n",
      "2  Afghanistan  2019       37,769,499        9,727,157       28,042,342   \n",
      "3  Afghanistan  2020       38,972,230       10,142,913       28,829,317   \n",
      "4  Afghanistan  2021       40,099,462       10,551,772       29,547,690   \n",
      "\n",
      "  Population Density Life Expectancy  Birth Rate  Death Rate Fertility Rate  \\\n",
      "0                 55              63      37.342       7.027          5.129   \n",
      "1                 56              63      36.927       6.981          5.002   \n",
      "2                 58              64      36.466       6.791           4.87   \n",
      "3                 60              63      36.051       7.113           4.75   \n",
      "4                  -              62      35.842       7.344          4.643   \n",
      "\n",
      "  Infant Mortality Rate Growth Rate  \n",
      "0                  49.4           -  \n",
      "1                  47.8           3  \n",
      "2                  46.3           3  \n",
      "3                  44.8           3  \n",
      "4                  43.4           3  \n",
      "(1073, 12)\n",
      "Index(['Country', 'Year', 'Total Population', 'Urban Population',\n",
      "       'Rural Population', 'Population Density', 'Life Expectancy',\n",
      "       'Birth Rate', 'Death Rate', 'Fertility Rate', 'Infant Mortality Rate',\n",
      "       'Growth Rate'],\n",
      "      dtype='object')\n",
      "<class 'pandas.core.frame.DataFrame'>\n",
      "RangeIndex: 1073 entries, 0 to 1072\n",
      "Data columns (total 12 columns):\n",
      " #   Column                 Non-Null Count  Dtype  \n",
      "---  ------                 --------------  -----  \n",
      " 0   Country                1073 non-null   object \n",
      " 1   Year                   1073 non-null   int64  \n",
      " 2   Total Population       1073 non-null   object \n",
      " 3   Urban Population       1073 non-null   object \n",
      " 4   Rural Population       1073 non-null   object \n",
      " 5   Population Density     1073 non-null   object \n",
      " 6   Life Expectancy        1073 non-null   object \n",
      " 7   Birth Rate             1073 non-null   float64\n",
      " 8   Death Rate             1073 non-null   float64\n",
      " 9   Fertility Rate         1073 non-null   object \n",
      " 10  Infant Mortality Rate  1073 non-null   object \n",
      " 11  Growth Rate            1073 non-null   object \n",
      "dtypes: float64(2), int64(1), object(9)\n",
      "memory usage: 100.7+ KB\n",
      "None\n"
     ]
    }
   ],
   "source": [
    "import pandas as pd\n",
    "\n",
    "df = pd.read_csv('Global Population Trends(2016-2022).csv')\n",
    "\n",
    "print(df.head())\n",
    "\n",
    "print(df.shape)\n",
    "\n",
    "print(df.columns)\n",
    "\n",
    "print(df.info())"
   ]
  },
  {
   "cell_type": "code",
   "execution_count": null,
   "id": "6eae6a7e-cf59-4dbe-a2c6-c944dbdddc3a",
   "metadata": {},
   "outputs": [],
   "source": [
    "Удалите строки, не содержащие значения в столбце «Total Population» - “-”"
   ]
  },
  {
   "cell_type": "code",
   "execution_count": 40,
   "id": "7cc17569-6acf-42e6-853d-351cdaeb1a69",
   "metadata": {},
   "outputs": [
    {
     "name": "stdout",
     "output_type": "stream",
     "text": [
      "          Country  Year Total Population Urban Population Rural Population  \\\n",
      "1     Afghanistan  2018       36,686,784        9,353,296       27,333,488   \n",
      "2     Afghanistan  2019       37,769,499        9,727,157       28,042,342   \n",
      "3     Afghanistan  2020       38,972,230       10,142,913       28,829,317   \n",
      "4     Afghanistan  2021       40,099,462       10,551,772       29,547,690   \n",
      "6         Albania  2018        2,866,376        1,728,969        1,137,407   \n",
      "...           ...   ...              ...              ...              ...   \n",
      "1067       Zambia  2021       19,473,125        8,800,295       10,672,830   \n",
      "1069     Zimbabwe  2018       15,052,184        4,848,158       10,204,026   \n",
      "1070     Zimbabwe  2019       15,354,608        4,945,719       10,408,889   \n",
      "1071     Zimbabwe  2020       15,669,666        5,052,214       10,617,452   \n",
      "1072     Zimbabwe  2021       15,993,524        5,166,388       10,827,136   \n",
      "\n",
      "     Population Density Life Expectancy  Birth Rate  Death Rate  \\\n",
      "1                    56              63      36.927       6.981   \n",
      "2                    58              64      36.466       6.791   \n",
      "3                    60              63      36.051       7.113   \n",
      "4                     -              62      35.842       7.344   \n",
      "6                   105              79      10.517       8.308   \n",
      "...                 ...             ...         ...         ...   \n",
      "1067                  -              61      34.511       6.973   \n",
      "1069                 39              61      32.074       7.972   \n",
      "1070                 40              61      31.518       8.043   \n",
      "1071                 41              61      31.009       8.132   \n",
      "1072                  -              59      30.537       9.057   \n",
      "\n",
      "     Fertility Rate Infant Mortality Rate Growth Rate  \n",
      "1             5.002                  47.8           3  \n",
      "2              4.87                  46.3           3  \n",
      "3              4.75                  44.8           3  \n",
      "4             4.643                  43.4           3  \n",
      "6              1.44                   8.3           0  \n",
      "...             ...                   ...         ...  \n",
      "1067          4.308                  40.2           3  \n",
      "1069          3.659                    38           2  \n",
      "1070          3.599                  37.1           2  \n",
      "1071          3.545                  36.6           2  \n",
      "1072          3.491                  35.7           2  \n",
      "\n",
      "[864 rows x 12 columns]\n"
     ]
    }
   ],
   "source": [
    "df1=df[df['Total Population']!='-']\n",
    "\n",
    "\n",
    "print (df1)\n"
   ]
  },
  {
   "cell_type": "code",
   "execution_count": null,
   "id": "2843be60-185d-478d-a808-62cfd060bb77",
   "metadata": {},
   "outputs": [],
   "source": [
    "Получите описательную статистику по переменным (например, max(), min(), describe())"
   ]
  },
  {
   "cell_type": "code",
   "execution_count": 17,
   "id": "05f682b6-76f5-4b95-a47d-9ff159ba72a0",
   "metadata": {},
   "outputs": [
    {
     "name": "stdout",
     "output_type": "stream",
     "text": [
      "              Year  Birth Rate  Death Rate\n",
      "count   864.000000  864.000000  864.000000\n",
      "mean   2019.500000   18.548384    7.889123\n",
      "std       1.118682    9.887518    3.041385\n",
      "min    2018.000000    0.000000    0.000000\n",
      "25%    2018.750000   10.500000    6.116500\n",
      "50%    2019.500000   15.628500    7.453500\n",
      "75%    2020.250000   25.565000    9.385000\n",
      "max    2021.000000   46.127000   21.700000\n",
      "Country                    Zimbabwe\n",
      "Year                           2021\n",
      "Total Population             99,258\n",
      "Urban Population         99,876,265\n",
      "Rural Population            998,397\n",
      "Population Density               99\n",
      "Life Expectancy                  85\n",
      "Birth Rate                   46.127\n",
      "Death Rate                     21.7\n",
      "Fertility Rate                7.023\n",
      "Infant Mortality Rate           9.9\n",
      "Growth Rate                       5\n",
      "dtype: object\n",
      "Country                  Afghanistan\n",
      "Year                            2018\n",
      "Total Population           1,057,198\n",
      "Urban Population                   -\n",
      "Rural Population                   -\n",
      "Population Density                 -\n",
      "Life Expectancy                    -\n",
      "Birth Rate                       0.0\n",
      "Death Rate                       0.0\n",
      "Fertility Rate                     -\n",
      "Infant Mortality Rate              -\n",
      "Growth Rate                       -1\n",
      "dtype: object\n",
      "count           864\n",
      "unique          864\n",
      "top       3,427,042\n",
      "freq              1\n",
      "Name: Total Population, dtype: object\n"
     ]
    }
   ],
   "source": [
    "print(df1.describe())\n",
    "\n",
    "print(df1.max())\n",
    "\n",
    "\n",
    "print(df1.min())\n",
    "\n",
    "print(df1['Total Population'].describe())"
   ]
  },
  {
   "cell_type": "code",
   "execution_count": null,
   "id": "c94ceebf-aa1f-4ca7-908a-a30ac74364d0",
   "metadata": {},
   "outputs": [],
   "source": [
    "Выполните сортировку данных по нескольким критериям"
   ]
  },
  {
   "cell_type": "code",
   "execution_count": 5,
   "id": "cc3c1d11-c3e6-4ca4-bc58-3e183d4eec60",
   "metadata": {},
   "outputs": [
    {
     "name": "stdout",
     "output_type": "stream",
     "text": [
      "       Country  Year Total Population Urban Population Rural Population  \\\n",
      "1  Afghanistan  2018       36,686,784        9,353,296       27,333,488   \n",
      "2  Afghanistan  2019       37,769,499        9,727,157       28,042,342   \n",
      "3  Afghanistan  2020       38,972,230       10,142,913       28,829,317   \n",
      "4  Afghanistan  2021       40,099,462       10,551,772       29,547,690   \n",
      "6      Albania  2018        2,866,376        1,728,969        1,137,407   \n",
      "\n",
      "  Population Density Life Expectancy  Birth Rate  Death Rate Fertility Rate  \\\n",
      "1                 56              63      36.927       6.981          5.002   \n",
      "2                 58              64      36.466       6.791           4.87   \n",
      "3                 60              63      36.051       7.113           4.75   \n",
      "4                  -              62      35.842       7.344          4.643   \n",
      "6                105              79      10.517       8.308           1.44   \n",
      "\n",
      "  Infant Mortality Rate Growth Rate  \n",
      "1                  47.8           3  \n",
      "2                  46.3           3  \n",
      "3                  44.8           3  \n",
      "4                  43.4           3  \n",
      "6                   8.3           0  \n"
     ]
    }
   ],
   "source": [
    "df_sorted = df1.sort_values(by=['Country', 'Year'])\n",
    "\n",
    "print(df_sorted.head())"
   ]
  },
  {
   "cell_type": "code",
   "execution_count": null,
   "id": "6184bc62-6eaa-4162-84bf-bf08e622b34c",
   "metadata": {},
   "outputs": [],
   "source": [
    "Выведите название страны, которая имеет максимальную численность населения\n",
    "\n",
    "Выведите название страны, которая имеет минимальную численность населения\n"
   ]
  },
  {
   "cell_type": "code",
   "execution_count": 42,
   "id": "f12f4cc5-dcc7-4b14-aaba-d72e26788408",
   "metadata": {},
   "outputs": [
    {
     "name": "stdout",
     "output_type": "stream",
     "text": [
      "1       36686784.0\n",
      "2       37769499.0\n",
      "3       38972230.0\n",
      "4       40099462.0\n",
      "6        2866376.0\n",
      "           ...    \n",
      "1067    19473125.0\n",
      "1069    15052184.0\n",
      "1070    15354608.0\n",
      "1071    15669666.0\n",
      "1072    15993524.0\n",
      "Name: Total Population, Length: 864, dtype: float64\n",
      "Max: China\n",
      "Min: Tuvalu\n"
     ]
    },
    {
     "name": "stderr",
     "output_type": "stream",
     "text": [
      "C:\\Users\\mephi\\AppData\\Local\\Temp\\ipykernel_33036\\2564036082.py:2: SettingWithCopyWarning: \n",
      "A value is trying to be set on a copy of a slice from a DataFrame.\n",
      "Try using .loc[row_indexer,col_indexer] = value instead\n",
      "\n",
      "See the caveats in the documentation: https://pandas.pydata.org/pandas-docs/stable/user_guide/indexing.html#returning-a-view-versus-a-copy\n",
      "  dfchanged['Total Population'] = dfchanged['Total Population'].str.replace(',', '').astype(float)\n"
     ]
    }
   ],
   "source": [
    "dfchanged = df1\n",
    "dfchanged['Total Population'] = dfchanged['Total Population'].str.replace(',', '').astype(float)\n",
    "\n",
    "print(dfchanged['Total Population'])\n",
    "\n",
    "country_max_population = dfchanged.loc[dfchanged['Total Population'].idxmax(), 'Country']\n",
    "print(f\"Max: {country_max_population}\")\n",
    "\n",
    "country_min_population = dfchanged.loc[dfchanged['Total Population'].idxmin(), 'Country']\n",
    "print(f\"Min: {country_min_population}\")"
   ]
  },
  {
   "cell_type": "code",
   "execution_count": null,
   "id": "6b18a75f-2814-4b44-bf62-11d9c530353d",
   "metadata": {},
   "outputs": [],
   "source": []
  }
 ],
 "metadata": {
  "kernelspec": {
   "display_name": "Python 3 (ipykernel)",
   "language": "python",
   "name": "python3"
  },
  "language_info": {
   "codemirror_mode": {
    "name": "ipython",
    "version": 3
   },
   "file_extension": ".py",
   "mimetype": "text/x-python",
   "name": "python",
   "nbconvert_exporter": "python",
   "pygments_lexer": "ipython3",
   "version": "3.12.2"
  }
 },
 "nbformat": 4,
 "nbformat_minor": 5
}
