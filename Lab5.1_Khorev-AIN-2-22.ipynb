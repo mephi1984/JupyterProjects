{
 "cells": [
  {
   "cell_type": "code",
   "execution_count": null,
   "id": "8824dc74-4df3-4e57-a9b4-72c862ab5733",
   "metadata": {},
   "outputs": [],
   "source": [
    "Подключите датасеты моделей регрессии - load_diabetes"
   ]
  },
  {
   "cell_type": "code",
   "execution_count": 13,
   "id": "715f0daa-dc50-4e8e-9eb6-4d91b9dfbd6e",
   "metadata": {},
   "outputs": [],
   "source": [
    "import matplotlib.pyplot as plt\n",
    "import seaborn as sns\n",
    "import pandas as pd\n",
    "import numpy as np\n",
    "from sklearn.datasets import load_diabetes\n",
    "from sklearn.model_selection import train_test_split, GridSearchCV\n",
    "from sklearn.neighbors import KNeighborsRegressor\n",
    "from sklearn.linear_model import LinearRegression, Ridge, Lasso, LogisticRegression\n",
    "from sklearn.metrics import mean_squared_error, accuracy_score\n",
    "\n",
    "diabetes = load_diabetes()\n"
   ]
  },
  {
   "cell_type": "code",
   "execution_count": null,
   "id": "df7eeda3-c626-4a0b-9b0c-cf0830048bd1",
   "metadata": {},
   "outputs": [],
   "source": [
    "3.\tИзучите подключенные данные."
   ]
  },
  {
   "cell_type": "code",
   "execution_count": 8,
   "id": "5b571bce-51da-4ab0-ba3d-74803a3f0ed4",
   "metadata": {},
   "outputs": [
    {
     "name": "stdout",
     "output_type": "stream",
     "text": [
      "dict_keys(['data', 'target', 'frame', 'DESCR', 'feature_names', 'data_filename', 'target_filename', 'data_module'])\n"
     ]
    }
   ],
   "source": [
    "print(diabetes.keys())"
   ]
  },
  {
   "cell_type": "code",
   "execution_count": 9,
   "id": "b26cbdc2-8cc3-4b53-a81d-4b4163504523",
   "metadata": {},
   "outputs": [
    {
     "name": "stdout",
     "output_type": "stream",
     "text": [
      "Data:\n",
      "[[ 0.03807591  0.05068012  0.06169621  0.02187239 -0.0442235  -0.03482076\n",
      "  -0.04340085 -0.00259226  0.01990749 -0.01764613]\n",
      " [-0.00188202 -0.04464164 -0.05147406 -0.02632753 -0.00844872 -0.01916334\n",
      "   0.07441156 -0.03949338 -0.06833155 -0.09220405]\n",
      " [ 0.08529891  0.05068012  0.04445121 -0.00567042 -0.04559945 -0.03419447\n",
      "  -0.03235593 -0.00259226  0.00286131 -0.02593034]\n",
      " [-0.08906294 -0.04464164 -0.01159501 -0.03665608  0.01219057  0.02499059\n",
      "  -0.03603757  0.03430886  0.02268774 -0.00936191]\n",
      " [ 0.00538306 -0.04464164 -0.03638469  0.02187239  0.00393485  0.01559614\n",
      "   0.00814208 -0.00259226 -0.03198764 -0.04664087]]\n",
      "\n",
      "Feature Names:\n",
      "['age', 'sex', 'bmi', 'bp', 's1', 's2', 's3', 's4', 's5', 's6']\n",
      "\n",
      "Description:\n",
      ".. _diabetes_dataset:\n",
      "\n",
      "Diabetes dataset\n",
      "----------------\n",
      "\n",
      "Ten baseline variables, age, sex, body mass index, average blood\n",
      "pressure, and six blood serum measurements were obtained for each of n =\n",
      "442 diabetes patients, as well as the response of interest, a\n",
      "quantitative measure of disease progression one year after baseline.\n",
      "\n",
      "**Data Set Characteristics:**\n",
      "\n",
      ":Number of Instances: 442\n",
      "\n",
      ":Number of Attributes: First 10 columns are numeric predictive values\n",
      "\n",
      ":Target: Column 11 is a quantitative measur\n"
     ]
    }
   ],
   "source": [
    "print(\"Data:\")\n",
    "print(diabetes.data[:5]) \n",
    "print(\"\\nFeature Names:\")\n",
    "print(diabetes.feature_names) \n",
    "\n",
    "print(\"\\nDescription:\")\n",
    "print(diabetes.DESCR[:500])  "
   ]
  },
  {
   "cell_type": "code",
   "execution_count": null,
   "id": "cb3bb0f3-d9dd-41bf-801d-86fc3f5c4426",
   "metadata": {},
   "outputs": [],
   "source": [
    "4.\tПостройте модели регрессии (KNeighborsRegressor, LinearRegression, Ridge, Lasso, LogisticRegression) для полученных датасетов\n",
    "a.\tНастройте наилучшие параметры моделей.\n",
    "\n"
   ]
  },
  {
   "cell_type": "code",
   "execution_count": 14,
   "id": "88b4b890-108c-42e0-a1c2-63740d07ed38",
   "metadata": {},
   "outputs": [
    {
     "name": "stdout",
     "output_type": "stream",
     "text": [
      "KNeighborsRegressor - MSE: 3082.08, Best Params: {'n_neighbors': 9}\n",
      "LinearRegression - MSE: 2848.31, Best Params: None\n",
      "Ridge - MSE: 2810.04, Best Params: {'alpha': 0.1}\n",
      "Lasso - MSE: 2753.92, Best Params: {'alpha': 0.1}\n",
      "Logistic Regression Accuracy: 0.78\n"
     ]
    }
   ],
   "source": [
    "X = diabetes.data\n",
    "y = diabetes.target\n",
    "\n",
    "# 2. Разделяем данные на обучающий и тестовые наборы (75% - 25%)\n",
    "X_train, X_test, y_train, y_test = train_test_split(X, y, test_size=0.25, random_state=42)\n",
    "\n",
    "# 3. Инициализация моделей\n",
    "models = {\n",
    "    \"KNeighborsRegressor\": (KNeighborsRegressor(), {'n_neighbors': [3, 5, 7, 9]}),\n",
    "    \"LinearRegression\": (LinearRegression(), {}),\n",
    "    \"Ridge\": (Ridge(), {'alpha': [0.1, 1.0, 10.0]}),\n",
    "    \"Lasso\": (Lasso(), {'alpha': [0.1, 1.0, 10.0]})\n",
    "}\n",
    "\n",
    "# 4. Обучение и оценка регрессионных моделей\n",
    "results = {}\n",
    "\n",
    "for model_name, (model, params) in models.items():\n",
    "    if params:\n",
    "        grid_search = GridSearchCV(model, params, cv=5, scoring='neg_mean_squared_error')\n",
    "        grid_search.fit(X_train, y_train)\n",
    "        best_model = grid_search.best_estimator_\n",
    "        best_params = grid_search.best_params_\n",
    "        y_pred = best_model.predict(X_test)\n",
    "        mse = mean_squared_error(y_test, y_pred)\n",
    "        results[model_name] = {'MSE': mse, 'Best Params': best_params}\n",
    "    else:\n",
    "        model.fit(X_train, y_train)\n",
    "        y_pred = model.predict(X_test)\n",
    "        mse = mean_squared_error(y_test, y_pred)\n",
    "        results[model_name] = {'MSE': mse, 'Best Params': None}\n",
    "\n",
    "# 5. Сравнение результатов\n",
    "for model_name, metrics in results.items():\n",
    "    print(f'{model_name} - MSE: {metrics[\"MSE\"]:.2f}, Best Params: {metrics[\"Best Params\"]}')\n",
    "\n",
    "# 5. Logistic Regression (не рекомендуется для регрессии)\n",
    "# Преобразуем целевую переменную в бинарную для примера\n",
    "y_binary = (y > np.median(y)).astype(int)  # Бинарная классификация по медиане\n",
    "\n",
    "# Разделяем данные на обучающий и тестовые наборы (75% - 25%)\n",
    "X_train_binary, X_test_binary, y_train_binary, y_test_binary = train_test_split(X, y_binary, test_size=0.25, random_state=42)\n",
    "\n",
    "# Обучаем и оцениваем Logistic Regression\n",
    "logistic_model = LogisticRegression(max_iter=200)\n",
    "logistic_model.fit(X_train_binary, y_train_binary)\n",
    "y_logistic_pred = logistic_model.predict(X_test_binary)\n",
    "accuracy = accuracy_score(y_test_binary, y_logistic_pred)\n",
    "print(f'Logistic Regression Accuracy: {accuracy:.2f}')"
   ]
  },
  {
   "cell_type": "code",
   "execution_count": null,
   "id": "68a02c4f-1450-45af-b3e2-709a7b1c49da",
   "metadata": {},
   "outputs": [],
   "source": [
    "b.\tСравните результаты и сделайте выводы."
   ]
  },
  {
   "cell_type": "code",
   "execution_count": null,
   "id": "a4fc8a2e-4986-428d-a32a-82aba5670527",
   "metadata": {},
   "outputs": [],
   "source": [
    "Модели с меньшим значением MSE обеспечивают лучшую предсказательную способность."
   ]
  }
 ],
 "metadata": {
  "kernelspec": {
   "display_name": "Python 3 (ipykernel)",
   "language": "python",
   "name": "python3"
  },
  "language_info": {
   "codemirror_mode": {
    "name": "ipython",
    "version": 3
   },
   "file_extension": ".py",
   "mimetype": "text/x-python",
   "name": "python",
   "nbconvert_exporter": "python",
   "pygments_lexer": "ipython3",
   "version": "3.12.2"
  }
 },
 "nbformat": 4,
 "nbformat_minor": 5
}
