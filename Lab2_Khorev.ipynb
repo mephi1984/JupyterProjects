{
 "cells": [
  {
   "cell_type": "code",
   "execution_count": null,
   "id": "ff993bfd-de25-4892-a2d9-49a1bd6d69c0",
   "metadata": {},
   "outputs": [],
   "source": [
    "# Задание 1\n",
    "Создайте одномерный массив my_array, в котором по порядку все числа до 100, кратные 5"
   ]
  },
  {
   "cell_type": "code",
   "execution_count": 3,
   "id": "7718aaad-9ab0-4cd9-9441-3f615f8ccfab",
   "metadata": {},
   "outputs": [
    {
     "name": "stdout",
     "output_type": "stream",
     "text": [
      "[  5  10  15  20  25  30  35  40  45  50  55  60  65  70  75  80  85  90\n",
      "  95 100]\n"
     ]
    }
   ],
   "source": [
    "import numpy as np\n",
    "\n",
    "my_array = np.arange(5, 101, 5)\n",
    "\n",
    "\n",
    "print(my_array)"
   ]
  },
  {
   "cell_type": "code",
   "execution_count": 3,
   "id": "f5d47f38-476c-4105-8d86-bc4de0920976",
   "metadata": {},
   "outputs": [
    {
     "ename": "SyntaxError",
     "evalue": "invalid syntax (325506405.py, line 2)",
     "output_type": "error",
     "traceback": [
      "\u001b[1;36m  Cell \u001b[1;32mIn[3], line 2\u001b[1;36m\u001b[0m\n\u001b[1;33m    Из полученного массива получить массив с кратными 10 числами\u001b[0m\n\u001b[1;37m       ^\u001b[0m\n\u001b[1;31mSyntaxError\u001b[0m\u001b[1;31m:\u001b[0m invalid syntax\n"
     ]
    }
   ],
   "source": [
    "# Задание 2\n",
    "Из полученного массива получить массив с кратными 10 числами"
   ]
  },
  {
   "cell_type": "code",
   "execution_count": 4,
   "id": "12972b9f-171f-44e9-81c2-ac83d258f302",
   "metadata": {},
   "outputs": [
    {
     "name": "stdout",
     "output_type": "stream",
     "text": [
      "[ 10  20  30  40  50  60  70  80  90 100]\n"
     ]
    }
   ],
   "source": [
    "filtered_array = my_array[my_array % 10 == 0]\n",
    "\n",
    "print(filtered_array)"
   ]
  },
  {
   "cell_type": "code",
   "execution_count": null,
   "id": "cd288548-27a7-47db-812d-bed8c170ff5b",
   "metadata": {},
   "outputs": [],
   "source": [
    "# Задание 3\n",
    "Получить двумерный массив с двумя столбцами"
   ]
  },
  {
   "cell_type": "code",
   "execution_count": 5,
   "id": "ad49bd78-7510-4ebe-861c-3fb9640ab375",
   "metadata": {},
   "outputs": [
    {
     "name": "stdout",
     "output_type": "stream",
     "text": [
      "[[ 10  20]\n",
      " [ 30  40]\n",
      " [ 50  60]\n",
      " [ 70  80]\n",
      " [ 90 100]]\n"
     ]
    }
   ],
   "source": [
    "two_column_array = filtered_array.reshape(-1, 2)\n",
    "\n",
    "print(two_column_array)"
   ]
  },
  {
   "cell_type": "code",
   "execution_count": null,
   "id": "809d7646-02cb-4d6f-9c58-7cb45b93772c",
   "metadata": {},
   "outputs": [],
   "source": [
    "# Задание 4\n",
    "Получите набор my_second_array, в котором все элементы меньше предыдущего исходного на 5"
   ]
  },
  {
   "cell_type": "code",
   "execution_count": 6,
   "id": "5848bb8a-b755-4b38-88b3-c2497128627f",
   "metadata": {},
   "outputs": [
    {
     "name": "stdout",
     "output_type": "stream",
     "text": [
      "[[ 5 15]\n",
      " [25 35]\n",
      " [45 55]\n",
      " [65 75]\n",
      " [85 95]]\n"
     ]
    }
   ],
   "source": [
    "two_column_array_second = two_column_array - 5\n",
    "\n",
    "print(two_column_array_second)"
   ]
  },
  {
   "cell_type": "code",
   "execution_count": null,
   "id": "1e9f2b33-d4e3-45c5-8567-b540eb7699d6",
   "metadata": {},
   "outputs": [],
   "source": [
    "# Задание 5\n",
    "Соедините массивы two_column_array (из задания 3) и my_second_array (из задания 4), горизонтально. Используйте .T для транспонирования матрицы."
   ]
  },
  {
   "cell_type": "code",
   "execution_count": 10,
   "id": "7bc41300-78c2-467f-b0ce-02d47409d5dd",
   "metadata": {},
   "outputs": [
    {
     "name": "stdout",
     "output_type": "stream",
     "text": [
      "[[ 10  20   5  15]\n",
      " [ 30  40  25  35]\n",
      " [ 50  60  45  55]\n",
      " [ 70  80  65  75]\n",
      " [ 90 100  85  95]]\n"
     ]
    }
   ],
   "source": [
    "joined_array = np.hstack((two_column_array, two_column_array_second))\n",
    "\n",
    "print(joined_array)"
   ]
  },
  {
   "cell_type": "code",
   "execution_count": null,
   "id": "43d8b7b0-904c-4f2a-a4f2-8d439104f8e1",
   "metadata": {},
   "outputs": [],
   "source": [
    "# Задание 6\n",
    "Разделите 2 и 3 строку на 4 верхних строки my_array. Используйте .T для транспонирования матрицы"
   ]
  },
  {
   "cell_type": "code",
   "execution_count": 12,
   "id": "512cef29-9b3a-4ad0-bf9d-fd32d5af948f",
   "metadata": {},
   "outputs": [
    {
     "name": "stdout",
     "output_type": "stream",
     "text": [
      "[[3.         2.         5.         2.33333333]\n",
      " [1.         1.         1.         1.        ]\n",
      " [0.6        0.66666667 0.55555556 0.63636364]\n",
      " [0.42857143 0.5        0.38461538 0.46666667]]\n",
      "[[5.         3.         9.         3.66666667]\n",
      " [1.66666667 1.5        1.8        1.57142857]\n",
      " [1.         1.         1.         1.        ]\n",
      " [0.71428571 0.75       0.69230769 0.73333333]]\n"
     ]
    }
   ],
   "source": [
    "division_2nd_row = np.array([joined_array[1] / joined_array[i] for i in range(4)])\n",
    "\n",
    "division_3rd_row = np.array([joined_array[2] / joined_array[i] for i in range(4)])\n",
    "\n",
    "print(division_2nd_row)\n",
    "\n",
    "print(division_3rd_row)"
   ]
  },
  {
   "cell_type": "code",
   "execution_count": null,
   "id": "9fc6a1b2-6ac4-417c-9f5d-95d17df67329",
   "metadata": {},
   "outputs": [],
   "source": [
    "# Задание 7\n",
    "Оставить только те значения, которые не изменились после деления"
   ]
  },
  {
   "cell_type": "code",
   "execution_count": 9,
   "id": "a86018f2-abdb-4dd2-be38-34b9fd944336",
   "metadata": {},
   "outputs": [
    {
     "name": "stdout",
     "output_type": "stream",
     "text": [
      "[]\n"
     ]
    }
   ],
   "source": []
  },
  {
   "cell_type": "code",
   "execution_count": null,
   "id": "b5e8bb0d-7618-4c13-9879-0efa0e01df74",
   "metadata": {},
   "outputs": [],
   "source": []
  },
  {
   "cell_type": "code",
   "execution_count": null,
   "id": "35b506e8-89c0-42de-9a2d-8b8d574acd43",
   "metadata": {},
   "outputs": [],
   "source": []
  }
 ],
 "metadata": {
  "kernelspec": {
   "display_name": "Python 3 (ipykernel)",
   "language": "python",
   "name": "python3"
  },
  "language_info": {
   "codemirror_mode": {
    "name": "ipython",
    "version": 3
   },
   "file_extension": ".py",
   "mimetype": "text/x-python",
   "name": "python",
   "nbconvert_exporter": "python",
   "pygments_lexer": "ipython3",
   "version": "3.12.2"
  }
 },
 "nbformat": 4,
 "nbformat_minor": 5
}
