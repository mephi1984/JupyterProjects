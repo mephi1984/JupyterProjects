{
 "cells": [
  {
   "cell_type": "code",
   "execution_count": null,
   "id": "827954a5-ffb4-4cc8-ae4d-2a7316a7f8c7",
   "metadata": {},
   "outputs": [],
   "source": [
    "# Задание 4 \n",
    "Напишите функцию, которая производит вычисление по формуле"
   ]
  },
  {
   "cell_type": "code",
   "execution_count": 2,
   "id": "b7987447-e41e-44ce-b0f9-3e02e6f416d3",
   "metadata": {},
   "outputs": [
    {
     "name": "stdout",
     "output_type": "stream",
     "text": [
      "Результат вычисления f(t, x): 16.331822118556794\n"
     ]
    }
   ],
   "source": [
    "import numpy as np\n",
    "\n",
    "def f(t, x):\n",
    "    try:\n",
    "        numerator = 9 * np.pi * t + 10 * np.cos(x)\n",
    "        denominator = np.sqrt(t) - np.sin(x)\n",
    "        exp_term = np.exp(-2 * t)\n",
    "        result = (numerator / denominator) * exp_term\n",
    "        return result\n",
    "    except ValueError as e:\n",
    "        return f\"Error: {e}\"\n",
    "\n",
    "\n",
    "t = 1 \n",
    "x = np.pi / 4\n",
    "print(f\"Результат вычисления f(t, x): {f(t, x)}\")\n",
    "\n"
   ]
  },
  {
   "cell_type": "code",
   "execution_count": null,
   "id": "b7bb5731-995e-4b36-a936-42491d69761f",
   "metadata": {},
   "outputs": [],
   "source": [
    "# Задание 5\n",
    "Напишите функцию, которая из трех чисел находит все принадлежащие интервалу от a до b (границы интервала задать произвольно)."
   ]
  },
  {
   "cell_type": "code",
   "execution_count": 3,
   "id": "a3b716a3-dec6-41c3-b125-f740d6f32478",
   "metadata": {},
   "outputs": [
    {
     "name": "stdout",
     "output_type": "stream",
     "text": [
      "Числа, принадлежащие интервалу [10, 20]: [15, 12]\n"
     ]
    }
   ],
   "source": [
    "def find_in_interval(a, b, num1, num2, num3):\n",
    "    numbers_in_interval = [num for num in [num1, num2, num3] if a <= num <= b]\n",
    "    return numbers_in_interval\n",
    "\n",
    "\n",
    "a = 10\n",
    "b = 20\n",
    "num1 = 15\n",
    "num2 = 25\n",
    "num3 = 12\n",
    "\n",
    "result = find_in_interval(a, b, num1, num2, num3)\n",
    "print(f\"Числа, принадлежащие интервалу [{a}, {b}]: {result}\")\n"
   ]
  },
  {
   "cell_type": "code",
   "execution_count": null,
   "id": "835d6741-dcef-43b7-9c81-ce130e3ac93c",
   "metadata": {},
   "outputs": [],
   "source": [
    "# Задание 6\n",
    "Создайте генератор 20-ти случайных чисел в диапазоне от 0 до 10."
   ]
  },
  {
   "cell_type": "code",
   "execution_count": 4,
   "id": "e2d5366d-76a5-402f-9d4b-d044f2dee626",
   "metadata": {},
   "outputs": [
    {
     "name": "stdout",
     "output_type": "stream",
     "text": [
      "[7.242922998610438, 1.7201332778276401, 3.0541356489038076, 7.160789801874349, 2.642375934534148, 9.685851674395428, 7.949553873365465, 6.346809822746582, 0.9141725107608789, 9.397957779899372, 1.5914741483207706, 9.719694910192548, 8.659188942304196, 7.283752932186932, 0.7689229997766267, 8.021473755339615, 2.1667070051612036, 2.958298113415344, 0.3665364745451505, 3.871111721500574]\n"
     ]
    }
   ],
   "source": [
    "import random\n",
    "\n",
    "def random_numbers_generator():\n",
    "    for _ in range(20):\n",
    "        yield random.uniform(0, 10)\n",
    "\n",
    "random_numbers = list(random_numbers_generator())\n",
    "print(random_numbers)\n"
   ]
  },
  {
   "cell_type": "code",
   "execution_count": null,
   "id": "4a158e97-778d-42a6-a7ad-927bff5438de",
   "metadata": {},
   "outputs": [],
   "source": [
    "# Задание 7\n",
    "Вычислите сумму 20 элементов последовательности "
   ]
  },
  {
   "cell_type": "code",
   "execution_count": 5,
   "id": "f19166aa-7dc7-4a52-ad66-4cce75c3d518",
   "metadata": {},
   "outputs": [
    {
     "name": "stdout",
     "output_type": "stream",
     "text": [
      "Сумма первых 20 элементов последовательности: 8.209021097669307\n"
     ]
    }
   ],
   "source": [
    "\n",
    "def sequence_sum(n):\n",
    "    total_sum = 0\n",
    "    for i in range(1, n+1):\n",
    "        denominator = (i + 1) + (i + 2)\n",
    "        total_sum += i / denominator\n",
    "    return total_sum\n",
    "\n",
    "n = 20\n",
    "result = sequence_sum(n)\n",
    "print(f\"Сумма первых {n} элементов последовательности: {result}\")\n"
   ]
  },
  {
   "cell_type": "code",
   "execution_count": null,
   "id": "acf5164e-b506-4ab4-8f80-07735fe6c123",
   "metadata": {},
   "outputs": [],
   "source": []
  }
 ],
 "metadata": {
  "kernelspec": {
   "display_name": "Python 3 (ipykernel)",
   "language": "python",
   "name": "python3"
  },
  "language_info": {
   "codemirror_mode": {
    "name": "ipython",
    "version": 3
   },
   "file_extension": ".py",
   "mimetype": "text/x-python",
   "name": "python",
   "nbconvert_exporter": "python",
   "pygments_lexer": "ipython3",
   "version": "3.12.2"
  }
 },
 "nbformat": 4,
 "nbformat_minor": 5
}
