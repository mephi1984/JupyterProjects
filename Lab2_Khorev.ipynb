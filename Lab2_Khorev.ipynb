{
 "cells": [
  {
   "cell_type": "code",
   "execution_count": null,
   "id": "ff993bfd-de25-4892-a2d9-49a1bd6d69c0",
   "metadata": {},
   "outputs": [],
   "source": [
    "# Задание 1\n",
    "Создайте одномерный массив my_array, в котором по порядку все числа до 100, кратные 5"
   ]
  },
  {
   "cell_type": "code",
   "execution_count": 2,
   "id": "7718aaad-9ab0-4cd9-9441-3f615f8ccfab",
   "metadata": {},
   "outputs": [
    {
     "name": "stdout",
     "output_type": "stream",
     "text": [
      "[  5  10  15  20  25  30  35  40  45  50  55  60  65  70  75  80  85  90\n",
      "  95 100]\n"
     ]
    }
   ],
   "source": [
    "import numpy as np\n",
    "\n",
    "my_array = np.arange(5, 101, 5)\n",
    "\n",
    "\n",
    "print(my_array)"
   ]
  },
  {
   "cell_type": "code",
   "execution_count": 3,
   "id": "f5d47f38-476c-4105-8d86-bc4de0920976",
   "metadata": {},
   "outputs": [
    {
     "ename": "SyntaxError",
     "evalue": "invalid syntax (325506405.py, line 2)",
     "output_type": "error",
     "traceback": [
      "\u001b[1;36m  Cell \u001b[1;32mIn[3], line 2\u001b[1;36m\u001b[0m\n\u001b[1;33m    Из полученного массива получить массив с кратными 10 числами\u001b[0m\n\u001b[1;37m       ^\u001b[0m\n\u001b[1;31mSyntaxError\u001b[0m\u001b[1;31m:\u001b[0m invalid syntax\n"
     ]
    }
   ],
   "source": [
    "# Задание 2\n",
    "Из полученного массива получить массив с кратными 10 числами"
   ]
  },
  {
   "cell_type": "code",
   "execution_count": 4,
   "id": "12972b9f-171f-44e9-81c2-ac83d258f302",
   "metadata": {},
   "outputs": [
    {
     "name": "stdout",
     "output_type": "stream",
     "text": [
      "[ 10  20  30  40  50  60  70  80  90 100]\n"
     ]
    }
   ],
   "source": [
    "filtered_array = my_array[my_array % 10 == 0]\n",
    "\n",
    "print(filtered_array)"
   ]
  },
  {
   "cell_type": "code",
   "execution_count": null,
   "id": "cd288548-27a7-47db-812d-bed8c170ff5b",
   "metadata": {},
   "outputs": [],
   "source": [
    "# Задание 3\n",
    "Получить двумерный массив с двумя столбцами"
   ]
  },
  {
   "cell_type": "code",
   "execution_count": 5,
   "id": "ad49bd78-7510-4ebe-861c-3fb9640ab375",
   "metadata": {},
   "outputs": [
    {
     "name": "stdout",
     "output_type": "stream",
     "text": [
      "[[ 10  20]\n",
      " [ 30  40]\n",
      " [ 50  60]\n",
      " [ 70  80]\n",
      " [ 90 100]]\n"
     ]
    }
   ],
   "source": [
    "two_column_array = filtered_array.reshape(-1, 2)\n",
    "\n",
    "print(two_column_array)"
   ]
  },
  {
   "cell_type": "code",
   "execution_count": null,
   "id": "809d7646-02cb-4d6f-9c58-7cb45b93772c",
   "metadata": {},
   "outputs": [],
   "source": [
    "# Задание 4\n",
    "Получите набор my_second_array, в котором все элементы меньше предыдущего исходного на 5"
   ]
  },
  {
   "cell_type": "code",
   "execution_count": 6,
   "id": "5848bb8a-b755-4b38-88b3-c2497128627f",
   "metadata": {},
   "outputs": [
    {
     "name": "stdout",
     "output_type": "stream",
     "text": [
      "[ 0  5 10 15 20 25 30 35 40 45 50 55 60 65 70 75 80 85 90 95]\n"
     ]
    }
   ],
   "source": [
    "my_second_array = my_array - 5\n",
    "\n",
    "print(my_second_array)"
   ]
  },
  {
   "cell_type": "code",
   "execution_count": null,
   "id": "1e9f2b33-d4e3-45c5-8567-b540eb7699d6",
   "metadata": {},
   "outputs": [],
   "source": [
    "# Задание 5\n",
    "Соедините массивы two_column_array (из задания 3) и my_second_array (из задания 4), горизонтально. Используйте .T для транспонирования матрицы."
   ]
  },
  {
   "cell_type": "code",
   "execution_count": 23,
   "id": "7bc41300-78c2-467f-b0ce-02d47409d5dd",
   "metadata": {},
   "outputs": [
    {
     "name": "stdout",
     "output_type": "stream",
     "text": [
      "[[ 10  20   0   5  10  15]\n",
      " [ 30  40  20  25  30  35]\n",
      " [ 50  60  40  45  50  55]\n",
      " [ 70  80  60  65  70  75]\n",
      " [ 90 100  80  85  90  95]]\n"
     ]
    }
   ],
   "source": [
    "#transposed_array = two_column_array.T\n",
    "\n",
    "#print (two_column_array)\n",
    "\n",
    "#print ( my_second_array)\n",
    "my_second_array_reshaped = my_second_array.reshape(-1, 4)\n",
    "my_second_array_reshaped_transposed = my_second_array_reshaped.T\n",
    "#print (my_second_array_reshaped)\n",
    "\n",
    "result = np.hstack((two_column_array, my_second_array_reshaped))\n",
    "\n",
    "print(result)"
   ]
  },
  {
   "cell_type": "code",
   "execution_count": null,
   "id": "43d8b7b0-904c-4f2a-a4f2-8d439104f8e1",
   "metadata": {},
   "outputs": [],
   "source": [
    "# Задание 6\n",
    "Разделите 2 и 3 строку на 4 верхних строки my_array. Используйте .T для транспонирования матрицы"
   ]
  },
  {
   "cell_type": "code",
   "execution_count": 24,
   "id": "512cef29-9b3a-4ad0-bf9d-fd32d5af948f",
   "metadata": {},
   "outputs": [
    {
     "ename": "ValueError",
     "evalue": "operands could not be broadcast together with shapes (2,6) (2,) ",
     "output_type": "error",
     "traceback": [
      "\u001b[1;31m---------------------------------------------------------------------------\u001b[0m",
      "\u001b[1;31mValueError\u001b[0m                                Traceback (most recent call last)",
      "Cell \u001b[1;32mIn[24], line 5\u001b[0m\n\u001b[0;32m      1\u001b[0m rows_2_and_3 \u001b[38;5;241m=\u001b[39m result[\u001b[38;5;241m1\u001b[39m:\u001b[38;5;241m3\u001b[39m] \n\u001b[0;32m      3\u001b[0m first_4_rows \u001b[38;5;241m=\u001b[39m my_array[:\u001b[38;5;241m4\u001b[39m]\n\u001b[1;32m----> 5\u001b[0m division_result \u001b[38;5;241m=\u001b[39m \u001b[43mrows_2_and_3\u001b[49m\u001b[43m \u001b[49m\u001b[38;5;241;43m/\u001b[39;49m\u001b[43m \u001b[49m\u001b[43mfirst_4_rows\u001b[49m\u001b[43m[\u001b[49m\u001b[43m:\u001b[49m\u001b[38;5;241;43m2\u001b[39;49m\u001b[43m]\u001b[49m\n\u001b[0;32m      7\u001b[0m transposed_result \u001b[38;5;241m=\u001b[39m division_result\u001b[38;5;241m.\u001b[39mT\n\u001b[0;32m      9\u001b[0m \u001b[38;5;28mprint\u001b[39m(transposed_result)\n",
      "\u001b[1;31mValueError\u001b[0m: operands could not be broadcast together with shapes (2,6) (2,) "
     ]
    }
   ],
   "source": [
    "rows_2_and_3 = result[1:3] \n",
    "\n",
    "first_4_rows = my_array[:4]\n",
    "\n",
    "division_result = rows_2_and_3 / first_4_rows[:2]\n",
    "\n",
    "transposed_result = division_result.T\n",
    "\n",
    "print(transposed_result)"
   ]
  },
  {
   "cell_type": "code",
   "execution_count": 9,
   "id": "a86018f2-abdb-4dd2-be38-34b9fd944336",
   "metadata": {},
   "outputs": [
    {
     "name": "stdout",
     "output_type": "stream",
     "text": [
      "[]\n"
     ]
    }
   ],
   "source": [
    "result_after_mask = transposed_result[transposed_result == 1]\n",
    "\n",
    "print(result_after_mask)"
   ]
  },
  {
   "cell_type": "code",
   "execution_count": null,
   "id": "b5e8bb0d-7618-4c13-9879-0efa0e01df74",
   "metadata": {},
   "outputs": [],
   "source": []
  }
 ],
 "metadata": {
  "kernelspec": {
   "display_name": "Python 3 (ipykernel)",
   "language": "python",
   "name": "python3"
  },
  "language_info": {
   "codemirror_mode": {
    "name": "ipython",
    "version": 3
   },
   "file_extension": ".py",
   "mimetype": "text/x-python",
   "name": "python",
   "nbconvert_exporter": "python",
   "pygments_lexer": "ipython3",
   "version": "3.12.2"
  }
 },
 "nbformat": 4,
 "nbformat_minor": 5
}
