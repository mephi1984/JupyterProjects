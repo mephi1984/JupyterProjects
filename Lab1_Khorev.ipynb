{
 "cells": [
  {
   "cell_type": "code",
   "execution_count": null,
   "id": "93964102-d726-4fd2-93d6-a7ddb456b839",
   "metadata": {},
   "outputs": [],
   "source": [
    "Свой пример на функцию, условный оператор и цикл"
   ]
  },
  {
   "cell_type": "code",
   "execution_count": 3,
   "id": "9a4c6c64-d6b3-461e-9bf4-6ec0ddad98ae",
   "metadata": {},
   "outputs": [
    {
     "name": "stdout",
     "output_type": "stream",
     "text": [
      "0\n",
      "0\n",
      "0\n",
      "0\n",
      "0\n",
      "0\n",
      "0\n",
      "0\n",
      "0\n",
      "0\n",
      "0\n",
      "0\n",
      "0\n",
      "0\n",
      "0\n",
      "0\n",
      "0\n",
      "0\n",
      "0\n",
      "0.004425697988050785\n",
      "0.054398846820214106\n",
      "0.10423602686569687\n",
      "0.15381267112909058\n",
      "0.2030048638187504\n",
      "0.2516896500717544\n",
      "0.2997453432770149\n",
      "0.34705182922843825\n",
      "0.3934908663478909\n",
      "0.4389463812275539\n",
      "0.4833047587530059\n",
      "0.526455126081828\n",
      "0.5682896297679736\n",
      "0.6087037053392187\n",
      "0.6475963386538759\n",
      "0.6848703183835534\n",
      "0.7204324789908387\n",
      "0.7541939335946278\n",
      "0.7860702961410393\n",
      "0.8159818923245936\n",
      "0.8438539587324921\n",
      "0.8696168297142055\n",
      "0.8932061115093225\n",
      "0.9145628431984176\n",
      "0.9336336440746373\n",
      "0.9503708470676735\n",
      "0.9647326178866098\n",
      "0.976683059583864\n",
      "0.9861923022788637\n",
      "0.9932365778171883\n",
      "0.9977982791785807\n",
      "0.9998660044853249\n",
      "0.9994345855010047\n",
      "0.9965051005484024\n",
      "0.9910848718142532\n",
      "0.9831874470475918\n",
      "0.9728325656974354\n",
      "0.960046109574442\n",
      "0.9448600381598606\n",
      "0.9273123087234758\n",
      "0.9074467814501962\n",
      "0.8853131098124392\n",
      "0.8609666164623065\n",
      "0.8344681549537633\n",
      "0.8058839576404507\n",
      "0.775285470129288\n",
      "0.7427491727036695\n",
      "0.7083563891625846\n",
      "0.6721930835534681\n",
      "0.6343496453068598\n",
      "0.594920663309892\n",
      "0.5540046894833415\n",
      "0.511703992453149\n",
      "0.4681243019321098\n",
      "0.42337454445066547\n",
      "0.3775665710972933\n",
      "0.33081487794904696\n",
      "0.28323631989098763\n",
      "0.23494981853982308\n",
      "0.1860760650018108\n",
      "0.1367372182078336\n",
      "0.08705659957970344\n",
      "0.03715838479082463\n",
      "0\n",
      "0\n",
      "0\n",
      "0\n",
      "0\n",
      "0\n",
      "0\n",
      "0\n",
      "0\n",
      "0\n",
      "0\n",
      "0\n",
      "0\n",
      "0\n",
      "0\n",
      "0\n",
      "0\n"
     ]
    }
   ],
   "source": [
    "import numpy as np\n",
    "\n",
    "def f(x):\n",
    "    return np.cos(x*0.05 + 10)\n",
    "\n",
    "for i in range(1,100):\n",
    "    y = f(i)\n",
    "    if (y > 0):\n",
    "        print(y)\n",
    "    else:\n",
    "        print(0)"
   ]
  },
  {
   "cell_type": "code",
   "execution_count": null,
   "id": "827954a5-ffb4-4cc8-ae4d-2a7316a7f8c7",
   "metadata": {},
   "outputs": [],
   "source": [
    "# Задание 4 \n",
    "Напишите функцию, которая производит вычисление по формуле"
   ]
  },
  {
   "cell_type": "code",
   "execution_count": 2,
   "id": "b7987447-e41e-44ce-b0f9-3e02e6f416d3",
   "metadata": {},
   "outputs": [
    {
     "name": "stdout",
     "output_type": "stream",
     "text": [
      "Результат вычисления f(t, x): 16.331822118556794\n"
     ]
    }
   ],
   "source": [
    "\n",
    "def f(t, x):\n",
    "    try:\n",
    "        numerator = 9 * np.pi * t + 10 * np.cos(x)\n",
    "        denominator = np.sqrt(t) - np.sin(x)\n",
    "        exp_term = np.exp(-2 * t)\n",
    "        result = (numerator / denominator) * exp_term\n",
    "        return result\n",
    "    except ValueError as e:\n",
    "        return f\"Error: {e}\"\n",
    "\n",
    "\n",
    "t = 1 \n",
    "x = np.pi / 4\n",
    "print(f\"Результат вычисления f(t, x): {f(t, x)}\")\n",
    "\n"
   ]
  },
  {
   "cell_type": "code",
   "execution_count": null,
   "id": "b7bb5731-995e-4b36-a936-42491d69761f",
   "metadata": {},
   "outputs": [],
   "source": [
    "# Задание 5\n",
    "Напишите функцию, которая из трех чисел находит все принадлежащие интервалу от a до b (границы интервала задать произвольно)."
   ]
  },
  {
   "cell_type": "code",
   "execution_count": 3,
   "id": "a3b716a3-dec6-41c3-b125-f740d6f32478",
   "metadata": {},
   "outputs": [
    {
     "name": "stdout",
     "output_type": "stream",
     "text": [
      "Числа, принадлежащие интервалу [10, 20]: [15, 12]\n"
     ]
    }
   ],
   "source": [
    "def find_in_interval(a, b, num1, num2, num3):\n",
    "    numbers_in_interval = [num for num in [num1, num2, num3] if a <= num <= b]\n",
    "    return numbers_in_interval\n",
    "\n",
    "\n",
    "a = 10\n",
    "b = 20\n",
    "num1 = 15\n",
    "num2 = 25\n",
    "num3 = 12\n",
    "\n",
    "result = find_in_interval(a, b, num1, num2, num3)\n",
    "print(f\"Числа, принадлежащие интервалу [{a}, {b}]: {result}\")\n"
   ]
  },
  {
   "cell_type": "code",
   "execution_count": null,
   "id": "835d6741-dcef-43b7-9c81-ce130e3ac93c",
   "metadata": {},
   "outputs": [],
   "source": [
    "# Задание 6\n",
    "Создайте генератор 20-ти случайных чисел в диапазоне от 0 до 10."
   ]
  },
  {
   "cell_type": "code",
   "execution_count": 4,
   "id": "e2d5366d-76a5-402f-9d4b-d044f2dee626",
   "metadata": {},
   "outputs": [
    {
     "name": "stdout",
     "output_type": "stream",
     "text": [
      "[7.242922998610438, 1.7201332778276401, 3.0541356489038076, 7.160789801874349, 2.642375934534148, 9.685851674395428, 7.949553873365465, 6.346809822746582, 0.9141725107608789, 9.397957779899372, 1.5914741483207706, 9.719694910192548, 8.659188942304196, 7.283752932186932, 0.7689229997766267, 8.021473755339615, 2.1667070051612036, 2.958298113415344, 0.3665364745451505, 3.871111721500574]\n"
     ]
    }
   ],
   "source": [
    "import random\n",
    "\n",
    "def random_numbers_generator():\n",
    "    for _ in range(20):\n",
    "        yield random.uniform(0, 10)\n",
    "\n",
    "random_numbers = list(random_numbers_generator())\n",
    "print(random_numbers)\n"
   ]
  },
  {
   "cell_type": "code",
   "execution_count": null,
   "id": "4a158e97-778d-42a6-a7ad-927bff5438de",
   "metadata": {},
   "outputs": [],
   "source": [
    "# Задание 7\n",
    "Вычислите сумму 20 элементов последовательности "
   ]
  },
  {
   "cell_type": "code",
   "execution_count": 5,
   "id": "f19166aa-7dc7-4a52-ad66-4cce75c3d518",
   "metadata": {},
   "outputs": [
    {
     "name": "stdout",
     "output_type": "stream",
     "text": [
      "Сумма первых 20 элементов последовательности: 8.209021097669307\n"
     ]
    }
   ],
   "source": [
    "\n",
    "def sequence_sum(n):\n",
    "    total_sum = 0\n",
    "    for i in range(1, n+1):\n",
    "        denominator = (i + 1) + (i + 2)\n",
    "        total_sum += i / denominator\n",
    "    return total_sum\n",
    "\n",
    "n = 20\n",
    "result = sequence_sum(n)\n",
    "print(f\"Сумма первых {n} элементов последовательности: {result}\")\n"
   ]
  },
  {
   "cell_type": "code",
   "execution_count": null,
   "id": "acf5164e-b506-4ab4-8f80-07735fe6c123",
   "metadata": {},
   "outputs": [],
   "source": []
  }
 ],
 "metadata": {
  "kernelspec": {
   "display_name": "Python 3 (ipykernel)",
   "language": "python",
   "name": "python3"
  },
  "language_info": {
   "codemirror_mode": {
    "name": "ipython",
    "version": 3
   },
   "file_extension": ".py",
   "mimetype": "text/x-python",
   "name": "python",
   "nbconvert_exporter": "python",
   "pygments_lexer": "ipython3",
   "version": "3.12.2"
  }
 },
 "nbformat": 4,
 "nbformat_minor": 5
}
